{
 "cells": [
  {
   "cell_type": "code",
   "execution_count": 1,
   "metadata": {},
   "outputs": [],
   "source": [
    "from psychopy import visual, event, core\n",
    "\n",
    "win = visual.Window(size=(600, 800))"
   ]
  },
  {
   "cell_type": "code",
   "execution_count": 2,
   "metadata": {},
   "outputs": [
    {
     "name": "stdout",
     "output_type": "stream",
     "text": [
      "1.3573 \tWARNING \tMonitor specification not found. Creating a temporary one...\n"
     ]
    }
   ],
   "source": [
    "circle = visual.Circle(  # type: ignore\n",
    "    win,\n",
    "    units=\"pix\",\n",
    "    radius=150,\n",
    "    fillColor=[0, 0, 0],\n",
    "    lineColor=[-1, -1, -1],\n",
    ")\n",
    "circle.colorSpace = \"rgb255\"\n",
    "circle.color = (255, 255, 255)\n",
    "\n",
    "circle.draw()\n",
    "win.flip()\n",
    "\n",
    "core.wait(2)\n",
    "\n",
    "image = visual.ImageStim(win, image=\"../data/raw/cat.jpg\")\n",
    "image.ori = 45\n",
    "image.size *= 0.272\n",
    "image.draw()\n",
    "win.flip()\n",
    "\n",
    "keys = event.waitKeys(keyList=[\"d\"])\n",
    "win.close()"
   ]
  }
 ],
 "metadata": {
  "kernelspec": {
   "display_name": "psychopy",
   "language": "python",
   "name": "python3"
  },
  "language_info": {
   "codemirror_mode": {
    "name": "ipython",
    "version": 3
   },
   "file_extension": ".py",
   "mimetype": "text/x-python",
   "name": "python",
   "nbconvert_exporter": "python",
   "pygments_lexer": "ipython3",
   "version": "3.10.13"
  }
 },
 "nbformat": 4,
 "nbformat_minor": 2
}
